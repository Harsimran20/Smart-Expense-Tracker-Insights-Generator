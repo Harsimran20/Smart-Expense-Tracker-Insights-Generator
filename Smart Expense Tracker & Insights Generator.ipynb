{
 "cells": [
  {
   "cell_type": "code",
   "execution_count": 2,
   "id": "4aaaf11e-7c45-4444-aff7-9b4c5f9620f2",
   "metadata": {},
   "outputs": [],
   "source": [
    "import pandas as pd\n",
    "\n",
    "data = {\n",
    "    \"Date\": [\"2025-05-01\", \"2025-05-02\", \"2025-05-03\", \"2025-05-04\"],\n",
    "    \"Description\": [\"Uber Ride\", \"Starbucks Coffee\", \"Electricity Bill\", \"Movie Night\"],\n",
    "    \"Category\": [\"Transport\", \"Food\", \"Utilities\", \"Entertainment\"],\n",
    "    \"Amount\": [350, 200, 1200, 500]\n",
    "}\n",
    "\n",
    "df = pd.DataFrame(data)\n",
    "df.to_csv(\"expenses.csv\", index=False)\n"
   ]
  },
  {
   "cell_type": "code",
   "execution_count": 4,
   "id": "6d17ddd7-7192-49c5-b190-bacb97016a92",
   "metadata": {},
   "outputs": [],
   "source": [
    "df = pd.read_csv(\"expenses.csv\")"
   ]
  },
  {
   "cell_type": "code",
   "execution_count": 6,
   "id": "1a050d14-13a6-46b7-8890-88b23b5e3362",
   "metadata": {},
   "outputs": [],
   "source": [
    "def categorize(desc):\n",
    "    if \"uber\" in desc.lower(): return \"Transport\"\n",
    "    elif \"starbucks\" in desc.lower(): return \"Food\"\n",
    "    return \"Other\"\n",
    "\n",
    "df['Category'] = df['Description'].apply(categorize)\n"
   ]
  },
  {
   "cell_type": "code",
   "execution_count": 12,
   "id": "60882fff-0944-4bad-8f08-68e76c1bd2be",
   "metadata": {},
   "outputs": [],
   "source": [
    "df['Date'] = pd.to_datetime(df['Date'], errors='coerce')\n",
    "df['Month'] = df['Date'].dt.to_period('M')\n",
    "monthly_summary = df.groupby(['Month', 'Category'])['Amount'].sum().unstack()\n"
   ]
  },
  {
   "cell_type": "code",
   "execution_count": 14,
   "id": "2d0db173-a7da-4d6e-81c0-4ab08a6bcde2",
   "metadata": {},
   "outputs": [],
   "source": [
    "top_categories = df.groupby('Category')['Amount'].sum().sort_values(ascending=False).head(3)\n",
    "peak_month = df.groupby('Month')['Amount'].sum().idxmax()\n"
   ]
  },
  {
   "cell_type": "code",
   "execution_count": 16,
   "id": "e547d31f-3f53-46a5-a158-9e0864d0c291",
   "metadata": {},
   "outputs": [],
   "source": [
    "monthly_summary.to_csv(\"monthly_expense_report.csv\")\n"
   ]
  },
  {
   "cell_type": "code",
   "execution_count": 22,
   "id": "efeda3a2-cc66-4c3a-9103-bea7558a19f2",
   "metadata": {},
   "outputs": [],
   "source": [
    "output=pd.read_csv(\"monthly_expense_report.csv\")"
   ]
  },
  {
   "cell_type": "code",
   "execution_count": null,
   "id": "a07af3c4-82a7-42d8-8169-bbae953b6235",
   "metadata": {},
   "outputs": [],
   "source": []
  }
 ],
 "metadata": {
  "kernelspec": {
   "display_name": "Python [conda env:base] *",
   "language": "python",
   "name": "conda-base-py"
  },
  "language_info": {
   "codemirror_mode": {
    "name": "ipython",
    "version": 3
   },
   "file_extension": ".py",
   "mimetype": "text/x-python",
   "name": "python",
   "nbconvert_exporter": "python",
   "pygments_lexer": "ipython3",
   "version": "3.12.7"
  }
 },
 "nbformat": 4,
 "nbformat_minor": 5
}
